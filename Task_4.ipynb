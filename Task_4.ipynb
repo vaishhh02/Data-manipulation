{
 "cells": [
  {
   "cell_type": "code",
   "execution_count": 1,
   "id": "b3c50684-f6ae-4c03-b5b6-87c307d9b729",
   "metadata": {},
   "outputs": [],
   "source": [
    "import pandas as pd"
   ]
  },
  {
   "cell_type": "code",
   "execution_count": 2,
   "id": "348e6a11-8e9e-4787-8720-4aa668fed10c",
   "metadata": {},
   "outputs": [],
   "source": [
    "# Load the dataset\n",
    "data = pd.read_csv(r\"C:\\Users\\lenovo\\Downloads\\superstore.csv\")"
   ]
  },
  {
   "cell_type": "code",
   "execution_count": 5,
   "id": "f3bb0d8d-cc41-457a-a8fe-1034eb4de9a4",
   "metadata": {},
   "outputs": [
    {
     "name": "stdout",
     "output_type": "stream",
     "text": [
      "Columns in the dataset: Index(['Category', 'City', 'Country', 'Customer.ID', 'Customer.Name',\n",
      "       'Discount', 'Market', '记录数', 'Order.Date', 'Order.ID', 'Order.Priority',\n",
      "       'Product.ID', 'Product.Name', 'Profit', 'Quantity', 'Region', 'Row.ID',\n",
      "       'Sales', 'Segment', 'Ship.Date', 'Ship.Mode', 'Shipping.Cost', 'State',\n",
      "       'Sub.Category', 'Year', 'Market2', 'weeknum'],\n",
      "      dtype='object')\n"
     ]
    }
   ],
   "source": [
    "# Check the column names to confirm availability of 'Category' and 'Market'\n",
    "print(\"Columns in the dataset:\", data.columns)"
   ]
  },
  {
   "cell_type": "code",
   "execution_count": 6,
   "id": "071b3781-61d0-44ea-9950-f10160ca68b0",
   "metadata": {},
   "outputs": [
    {
     "name": "stdout",
     "output_type": "stream",
     "text": [
      "Pivot Table - Total Sales by Category and Market:\n",
      " Market              APAC  Africa  Canada    EMEA       EU   LATAM      US\n",
      "Category                                                                 \n",
      "Furniture        1343958  194650   10595  228627   779088  811960  742006\n",
      "Office Supplies   884377  266752   30037  276712  1046359  563966  719127\n",
      "Technology       1357498  322374   26300  300845  1112692  788761  836221\n"
     ]
    }
   ],
   "source": [
    "# Use pivot_table to analyze total sales by 'Category' and 'Market'\n",
    "pivot_sales = data.pivot_table(values='Sales', index='Category', columns='Market', aggfunc='sum')\n",
    "print(\"Pivot Table - Total Sales by Category and Market:\\n\", pivot_sales)"
   ]
  },
  {
   "cell_type": "code",
   "execution_count": 7,
   "id": "ca4c3ea8-49f5-4b8c-970b-0fa220246a5b",
   "metadata": {},
   "outputs": [
    {
     "name": "stdout",
     "output_type": "stream",
     "text": [
      "Pivot Table - Average Sales and Quantity by Category and Market:\n",
      "                  Quantity                                                    \\\n",
      "Market               APAC    Africa    Canada      EMEA        EU     LATAM   \n",
      "Category                                                                      \n",
      "Furniture        3.745986  2.267829  1.857143  2.311688  3.778148  3.722502   \n",
      "Office Supplies  3.745184  2.332348  2.212996  2.268123  3.776446  3.764244   \n",
      "Technology       3.753339  2.229418  2.184615  2.348233  3.779581  3.703902   \n",
      "\n",
      "                                Sales                                      \\\n",
      "Market                 US        APAC      Africa      Canada        EMEA   \n",
      "Category                                                                    \n",
      "Furniture        3.785007  553.296830  308.478605  252.261905  296.918182   \n",
      "Office Supplies  3.801195  143.172576   87.603284  108.436823   83.928420   \n",
      "Technology       3.756903  566.568447  353.868277  404.615385  312.728690   \n",
      "\n",
      "                                                     \n",
      "Market                   EU       LATAM          US  \n",
      "Category                                             \n",
      "Furniture        519.045969  340.873216  349.837812  \n",
      "Office Supplies  158.803916   96.207097  119.337371  \n",
      "Technology       582.561257  384.761463  452.745533  \n"
     ]
    }
   ],
   "source": [
    "# Use pivot_table to find the average sales and quantity by 'Category' and 'Market'\n",
    "pivot_avg = data.pivot_table(values=['Sales', 'Quantity'], index='Category', columns='Market', aggfunc='mean')\n",
    "print(\"Pivot Table - Average Sales and Quantity by Category and Market:\\n\", pivot_avg)"
   ]
  },
  {
   "cell_type": "code",
   "execution_count": 8,
   "id": "607f7d84-a23c-4324-bd18-3beb592adda9",
   "metadata": {},
   "outputs": [
    {
     "name": "stdout",
     "output_type": "stream",
     "text": [
      "The specified columns for pivot are not available in this dataset.\n"
     ]
    }
   ],
   "source": [
    "# Use pivot to reshape data based on 'Category' and 'Market' for each 'Order ID'\n",
    "# Using a simpler form of data to demonstrate pivot (this may need adjusting depending on available fields)\n",
    "# Here we assume 'Order ID' and 'Category' are suitable for a pivot operation\n",
    "try:\n",
    "    pivot_simple = data.pivot(index='Order ID', columns='Category', values='Sales')\n",
    "    print(\"Pivot - Sales per Category for each Order ID:\\n\", pivot_simple)\n",
    "except KeyError:\n",
    "    print(\"The specified columns for pivot are not available in this dataset.\")"
   ]
  },
  {
   "cell_type": "code",
   "execution_count": null,
   "id": "44b39fe4-7801-491a-84a8-56f06cd90cdd",
   "metadata": {},
   "outputs": [],
   "source": []
  }
 ],
 "metadata": {
  "kernelspec": {
   "display_name": "Python 3 (ipykernel)",
   "language": "python",
   "name": "python3"
  },
  "language_info": {
   "codemirror_mode": {
    "name": "ipython",
    "version": 3
   },
   "file_extension": ".py",
   "mimetype": "text/x-python",
   "name": "python",
   "nbconvert_exporter": "python",
   "pygments_lexer": "ipython3",
   "version": "3.11.7"
  }
 },
 "nbformat": 4,
 "nbformat_minor": 5
}
